{
 "cells": [
  {
   "cell_type": "code",
   "execution_count": 1,
   "id": "9c2a0e64-f5ea-42ad-a5c7-ffee59a48da9",
   "metadata": {},
   "outputs": [],
   "source": [
    "import torch\n",
    "from torchvision import datasets, transforms\n",
    "from torch.utils.data import DataLoader, TensorDataset\n",
    "from torch import nn, optim\n",
    "from PIL import Image\n",
    "import numpy as np\n",
    "import os\n",
    "import matplotlib.pyplot as plt\n"
   ]
  },
  {
   "cell_type": "code",
   "execution_count": 2,
   "id": "79957254",
   "metadata": {},
   "outputs": [],
   "source": [
    "\n",
    "import torch.nn as nn\n",
    "import torch.nn.functional as F\n",
    "\n",
    "# Define MLP model class\n",
    "class MLP(nn.Module):\n",
    "    def __init__(self):\n",
    "        super(MLP, self).__init__()\n",
    "        self.fc1 = nn.Linear(28*28, 256)\n",
    "        self.fc2 = nn.Linear(256, 128)\n",
    "        self.fc3 = nn.Linear(128, 10)\n",
    "\n",
    "    def forward(self, x):\n",
    "        x = x.view(-1, 28*28)\n",
    "        x = F.relu(self.fc1(x))\n",
    "        x = F.relu(self.fc2(x))\n",
    "        x = self.fc3(x)\n",
    "        return x\n",
    "\n",
    "# Create model instance\n",
    "model = MLP()\n"
   ]
  },
  {
   "cell_type": "code",
   "execution_count": 7,
   "id": "fdf44407-7927-4034-a9b6-2564d96d3c03",
   "metadata": {},
   "outputs": [],
   "source": [
    "# --- 2. Load Custom Digits for Training ---\n",
    "def ProjectDataLoader(path='./handpicked', transform=None):\n",
    "    images, labels = [], []\n",
    "    for filename in os.listdir(path):\n",
    "        if filename.endswith('.png'):\n",
    "            label = int(filename.split('-')[0])\n",
    "            img_path = os.path.join(path, filename)\n",
    "            img = Image.open(img_path).convert('L').resize((28, 28))\n",
    "            if transform:\n",
    "                img = transform(img)\n",
    "            else:\n",
    "                img = transforms.ToTensor()(img)\n",
    "            images.append(img)\n",
    "            labels.append(label)\n",
    "    return torch.stack(images), torch.tensor(labels).long().squeeze()\n",
    "\n",
    "custom_batch, custom_labels_tensor = ProjectDataLoader('./handpicked')\n",
    "custom_dataset = TensorDataset(custom_batch, custom_labels_tensor)\n",
    "trainloader = DataLoader(custom_dataset, batch_size=16, shuffle=True)"
   ]
  },
  {
   "cell_type": "code",
   "execution_count": 9,
   "id": "e6dd1255-288b-4a29-b317-88e0ed02994e",
   "metadata": {},
   "outputs": [
    {
     "name": "stdout",
     "output_type": "stream",
     "text": [
      "MNIST datasets loaded with NO transform and NO normalization.\n"
     ]
    }
   ],
   "source": [
    "\n",
    "# Load MNIST with NO transform and NO normalization\n",
    "trainset = datasets.MNIST(root='./MNIST_data', download=True, train=True)\n",
    "testset = datasets.MNIST(root='./MNIST_data', download=True, train=False)\n",
    "\n",
    "print(\"MNIST datasets loaded with NO transform and NO normalization.\")\n"
   ]
  },
  {
   "cell_type": "code",
   "execution_count": 11,
   "id": "a6987812-6c7f-4f89-bb93-054fdf2ceb00",
   "metadata": {},
   "outputs": [],
   "source": [
    "def pil_collate(batch):\n",
    "    images, labels = zip(*batch)\n",
    "    return list(images), torch.tensor(labels)\n",
    "\n",
    "testloader = torch.utils.data.DataLoader(testset, batch_size=64, shuffle=False, collate_fn=pil_collate)\n",
    "\n"
   ]
  },
  {
   "cell_type": "code",
   "execution_count": 13,
   "id": "a135e800-b9ba-4cc5-a1a8-040cbfbb1aa2",
   "metadata": {},
   "outputs": [],
   "source": [
    "import torch.nn as nn\n",
    "import torch.nn.functional as F\n",
    "\n",
    "class MLP(nn.Module):\n",
    "    def __init__(self):\n",
    "        super(MLP, self).__init__()\n",
    "        self.fc1 = nn.Linear(28*28, 256)\n",
    "        self.fc2 = nn.Linear(256, 128)\n",
    "        self.fc3 = nn.Linear(128, 10)\n",
    "\n",
    "    def forward(self, x):\n",
    "        x = x.view(-1, 28*28)\n",
    "        x = F.relu(self.fc1(x))\n",
    "        x = F.relu(self.fc2(x))\n",
    "        x = self.fc3(x)\n",
    "        return x\n"
   ]
  },
  {
   "cell_type": "code",
   "execution_count": 15,
   "id": "44f97f0e-6f88-4901-a9b9-3fb433561e0a",
   "metadata": {},
   "outputs": [
    {
     "name": "stdout",
     "output_type": "stream",
     "text": [
      "Test Accuracy: 11.25%\n"
     ]
    }
   ],
   "source": [
    "\n",
    "correct = 0\n",
    "total = 0\n",
    "\n",
    "with torch.no_grad():\n",
    "    for images, labels in testloader:\n",
    "        # Manually convert batch of PIL images to tensors\n",
    "        img_batch = []\n",
    "        for img in images:\n",
    "            tensor_img = torch.tensor(np.array(img), dtype=torch.float32).unsqueeze(0) / 255.0  # shape [1,28,28]\n",
    "            img_batch.append(tensor_img)\n",
    "        img_batch = torch.stack(img_batch)  # shape [batch, 1, 28, 28]\n",
    "\n",
    "        outputs = model(img_batch)\n",
    "        _, predicted = torch.max(outputs, 1)\n",
    "        total += labels.size(0)\n",
    "        correct += (predicted == labels).sum().item()\n",
    "\n",
    "print(f\"Test Accuracy: {100 * correct / total:.2f}%\")\n"
   ]
  },
  {
   "cell_type": "code",
   "execution_count": 23,
   "id": "10f1bc49-c39d-43a6-a30b-971439f09d8f",
   "metadata": {},
   "outputs": [
    {
     "name": "stdout",
     "output_type": "stream",
     "text": [
      "Test Accuracy: 11.25%\n"
     ]
    },
    {
     "data": {
      "image/png": "[encoded data removed]",
      "text/plain": [
       "<Figure size 1200x500 with 10 Axes>"
      ]
     },
     "metadata": {},
     "output_type": "display_data"
    }
   ],
   "source": [
    "\n",
    "correct = 0\n",
    "total = 0\n",
    "\n",
    "with torch.no_grad():\n",
    "    for images, labels in testloader:\n",
    "        # Manually convert batch of PIL images to tensors\n",
    "        img_batch = []\n",
    "        for img in images:\n",
    "            tensor_img = torch.tensor(np.array(img), dtype=torch.float32).unsqueeze(0) / 255.0  # shape [1,28,28]\n",
    "            img_batch.append(tensor_img)\n",
    "        img_batch = torch.stack(img_batch)  # shape [batch, 1, 28, 28]\n",
    "\n",
    "        outputs = model(img_batch)\n",
    "        _, predicted = torch.max(outputs, 1)\n",
    "        total += labels.size(0)\n",
    "        correct += (predicted == labels).sum().item()\n",
    "\n",
    "print(f\"Test Accuracy: {100 * correct / total:.2f}%\")\n",
    "\n",
    "# --- 9. (Optional) Visualize a Few Test Predictions ---\n",
    "def show_mnist_predictions(model, testloader):\n",
    "    model.eval()\n",
    "    images, labels = next(iter(testloader))\n",
    "    \n",
    "    # Manually convert raw images to tensor batch\n",
    "    img_batch = []\n",
    "    for img in images:\n",
    "        tensor_img = torch.tensor(np.array(img), dtype=torch.float32).unsqueeze(0) / 255.0\n",
    "        img_batch.append(tensor_img)\n",
    "    img_batch = torch.stack(img_batch)\n",
    "\n",
    "    outputs = model(img_batch)\n",
    "    _, preds = torch.max(outputs, 1)\n",
    "\n",
    "    # Display\n",
    "    fig, axs = plt.subplots(2, 5, figsize=(12, 5))\n",
    "    for i, ax in enumerate(axs.flat):\n",
    "        ax.imshow(np.array(images[i]), cmap='gray')\n",
    "        ax.set_title(f\"Pred: {preds[i].item()}, True: {labels[i].item()}\")\n",
    "        ax.axis('off')\n",
    "    plt.tight_layout()\n",
    "    plt.show()\n",
    "\n",
    "show_mnist_predictions(model, testloader)\n"
   ]
  },
  {
   "cell_type": "code",
   "execution_count": null,
   "id": "d982f693-4686-489b-93d5-b2fd8bb4036e",
   "metadata": {},
   "outputs": [],
   "source": []
  }
 ],
 "metadata": {
  "kernelspec": {
   "display_name": "Python (base)",
   "language": "python",
   "name": "base"
  },
  "language_info": {
   "codemirror_mode": {
    "name": "ipython",
    "version": 3
   },
   "file_extension": ".py",
   "mimetype": "text/x-python",
   "name": "python",
   "nbconvert_exporter": "python",
   "pygments_lexer": "ipython3",
   "version": "3.12.2"
  }
 },
 "nbformat": 4,
 "nbformat_minor": 5
}

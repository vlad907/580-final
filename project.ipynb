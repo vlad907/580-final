{
 "cells": [
  {
   "cell_type": "markdown",
   "id": "32da93f3-5179-4757-acaf-6e405996e738",
   "metadata": {},
   "source": [
    "# CSCI 580 Final Project\n",
    "## Handwritten Digit Recognition using MLP\n",
    "**Team Members:** Aaron Partridge\n",
    "\n",
    "\n",
    "This project trains a simple Multilayer Perceptron (MLP) to classify handwritten digits using the MNIST dataset, and evaluates its performance on custom handwritten digits collected by our team.\n"
   ]
  },
  {
   "cell_type": "markdown",
   "id": "74835560-b342-48a4-9c9d-ee6ec9d98cec",
   "metadata": {},
   "source": [
    "# 1. Import Required Libraries\n",
    "We import PyTorch, torchvision, and other necessary libraries for data loading, model building, and training.\n"
   ]
  },
  {
   "cell_type": "code",
   "execution_count": 1,
   "id": "59763860-b35a-43bd-b933-6b8ecf7adaaa",
   "metadata": {},
   "outputs": [],
   "source": [
    "import torch\n",
    "import torch.nn as nn\n",
    "import torch.nn.functional as F\n",
    "import torch.optim as optim\n",
    "from torchvision import datasets, transforms\n",
    "import numpy as np\n",
    "import os\n",
    "from PIL import Image\n",
    "import matplotlib.pyplot as plt\n",
    "\n",
    "\n"
   ]
  },
  {
   "cell_type": "markdown",
   "id": "76d15c99-60b1-41e1-9b55-c95fe381fb4e",
   "metadata": {},
   "source": [
    "# 2. Define Image Transform\n",
    "We define the transformations to normalize image data from [0, 255] pixel values to [-1.0, 1.0].\n"
   ]
  },
  {
   "cell_type": "code",
   "execution_count": 2,
   "id": "94dfc9d8-1dfa-40fd-8165-1e00bd5d02c3",
   "metadata": {},
   "outputs": [],
   "source": [
    "# Define the transform first\n",
    "transform = transforms.Compose([\n",
    "    transforms.ToTensor(),\n",
    "    transforms.Normalize((0.5,), (0.5,))\n",
    "])"
   ]
  },
  {
   "cell_type": "markdown",
   "id": "6e8e009a-a0ec-405f-afe3-9015aae989d1",
   "metadata": {},
   "source": [
    "# 3. Load MNIST Dataset\n",
    "Download the MNIST dataset with transformations applied during loading.\n"
   ]
  },
  {
   "cell_type": "code",
   "execution_count": 3,
   "id": "60992a5c-300c-4c0c-9aa1-aecde6643841",
   "metadata": {},
   "outputs": [
    {
     "name": "stdout",
     "output_type": "stream",
     "text": [
      "MNIST datasets downloaded!\n"
     ]
    }
   ],
   "source": [
    "# Download MNIST dataset with transform applied\n",
    "trainset = datasets.MNIST(root='./MNIST_data', download=True, train=True, transform=transform)\n",
    "testset = datasets.MNIST(root='./MNIST_data', download=True, train=False, transform=transform)\n",
    "\n",
    "print(\"MNIST datasets downloaded!\")"
   ]
  },
  {
   "cell_type": "markdown",
   "id": "a43e2007-e9f5-498e-88f8-5053a5d7ef43",
   "metadata": {},
   "source": [
    "# 4. Load Group Handwritten Digits\n",
    "Load the handwritten digits collected by our team members into memory.\n"
   ]
  },
  {
   "cell_type": "code",
   "execution_count": 4,
   "id": "e969795a-83a7-4074-985f-21b619b6e5b5",
   "metadata": {},
   "outputs": [
    {
     "name": "stdout",
     "output_type": "stream",
     "text": [
      "(330, 28, 28)\n",
      "(330,)\n"
     ]
    }
   ],
   "source": [
    "# Load our group handwritten digits\n",
    "def ProjectDataLoader(path='./digits'):\n",
    "    images = []\n",
    "    labels = []\n",
    "    for filename in os.listdir(path):\n",
    "        if filename.endswith('.png'):\n",
    "            label = int(filename.split('-')[0])\n",
    "            img = Image.open(os.path.join(path, filename)).convert('L')  # grayscale\n",
    "            img = np.array(img)\n",
    "            images.append(img)\n",
    "            labels.append(label)\n",
    "    images = np.array(images)\n",
    "    labels = np.array(labels)\n",
    "    return images, labels\n",
    "\n",
    "images, labels = ProjectDataLoader()\n",
    "print(images.shape)\n",
    "print(labels.shape)\n",
    "\n"
   ]
  },
  {
   "cell_type": "markdown",
   "id": "dda7ab50-2693-4411-b4f9-27ca8be565f9",
   "metadata": {},
   "source": [
    "# 5. Display a Sample Handwritten Digit\n",
    "(Optional) Visualize one of the handwritten digit images to verify correct loading.\n"
   ]
  },
  {
   "cell_type": "code",
   "execution_count": 5,
   "id": "ebce9e96-722c-4dad-8c36-c36223c2e40b",
   "metadata": {},
   "outputs": [
    {
     "name": "stdout",
     "output_type": "stream",
     "text": [
      "torch.Size([1, 28, 28])\n"
     ]
    },
    {
     "data": {
      "image/png": "[encoded data removed]",
      "text/plain": [
       "<Figure size 640x480 with 1 Axes>"
      ]
     },
     "metadata": {},
     "output_type": "display_data"
    }
   ],
   "source": [
    "# Test: show one sample\n",
    "sample_img = images[0]\n",
    "sample_img_tensor = transform(sample_img)\n",
    "\n",
    "print(sample_img_tensor.shape)  # Should be [1, 28, 28]\n",
    "\n",
    "plt.imshow(sample_img_tensor.squeeze(0), cmap='gray')\n",
    "plt.title(f\"Label: {labels[0]}\")\n",
    "plt.show()\n"
   ]
  },
  {
   "cell_type": "markdown",
   "id": "7ad0d092-3db0-4fec-84d3-3ecd80b09326",
   "metadata": {},
   "source": [
    "# 6. Define the MLP Model\n",
    "We define a simple 3-layer Multilayer Perceptron for classifying digit images.\n"
   ]
  },
  {
   "cell_type": "code",
   "execution_count": 6,
   "id": "11f59a2f-c3a0-4192-8bfe-ec926ac4cd2b",
   "metadata": {},
   "outputs": [
    {
     "name": "stdout",
     "output_type": "stream",
     "text": [
      "MLP(\n",
      "  (fc1): Linear(in_features=784, out_features=256, bias=True)\n",
      "  (fc2): Linear(in_features=256, out_features=128, bias=True)\n",
      "  (fc3): Linear(in_features=128, out_features=10, bias=True)\n",
      ")\n"
     ]
    }
   ],
   "source": [
    "# Define MLP Model\n",
    "class MLP(nn.Module):\n",
    "    def __init__(self):\n",
    "        super(MLP, self).__init__()\n",
    "        self.fc1 = nn.Linear(28*28, 256)\n",
    "        self.fc2 = nn.Linear(256, 128)\n",
    "        self.fc3 = nn.Linear(128, 10)\n",
    "\n",
    "    def forward(self, x):\n",
    "        x = x.view(-1, 28*28)  # Flatten the image\n",
    "        x = F.relu(self.fc1(x))\n",
    "        x = F.relu(self.fc2(x))\n",
    "        x = self.fc3(x)\n",
    "        return x\n",
    "\n",
    "model = MLP()\n",
    "print(model)\n",
    "\n"
   ]
  },
  {
   "cell_type": "markdown",
   "id": "267ec041-9e7a-4f84-9653-273c7e74f30a",
   "metadata": {},
   "source": [
    "# 7. Define Loss Function and Optimizer\n",
    "Set up Cross Entropy Loss and Adam optimizer for model training.\n"
   ]
  },
  {
   "cell_type": "code",
   "execution_count": 7,
   "id": "d02211a1-73d2-49b7-814e-250613985424",
   "metadata": {},
   "outputs": [],
   "source": [
    "# Loss function and optimizer\n",
    "criterion = nn.CrossEntropyLoss()\n",
    "optimizer = optim.Adam(model.parameters(), lr=0.001)\n"
   ]
  },
  {
   "cell_type": "markdown",
   "id": "61526399-88ee-48ba-969a-844dcef96526",
   "metadata": {},
   "source": [
    "# 8. Train the Model\n",
    "Train the MLP using the MNIST training set for a fixed number of epochs.\n"
   ]
  },
  {
   "cell_type": "code",
   "execution_count": 8,
   "id": "b3e505b6-bf22-4fea-9bce-c64da68672f5",
   "metadata": {},
   "outputs": [
    {
     "name": "stdout",
     "output_type": "stream",
     "text": [
      "Epoch 1, Loss: 0.33759272978631166\n",
      "Epoch 2, Loss: 0.14877128409845297\n",
      "Epoch 3, Loss: 0.10861040835481273\n",
      "Epoch 4, Loss: 0.0894225395085024\n",
      "Epoch 5, Loss: 0.07464617934784909\n",
      "Epoch 6, Loss: 0.06438211400631759\n",
      "Epoch 7, Loss: 0.0564301806198719\n",
      "Epoch 8, Loss: 0.0516386339443424\n",
      "Epoch 9, Loss: 0.04564529160414435\n",
      "Epoch 10, Loss: 0.04105471446166939\n",
      "Epoch 11, Loss: 0.03743123086462262\n",
      "Epoch 12, Loss: 0.03638833493024033\n",
      "Epoch 13, Loss: 0.033971292576272294\n",
      "Epoch 14, Loss: 0.028871398275794546\n",
      "Epoch 15, Loss: 0.027702392989718445\n",
      "Epoch 16, Loss: 0.029365235246730466\n",
      "Epoch 17, Loss: 0.02668613352433391\n",
      "Epoch 18, Loss: 0.02504911250259898\n",
      "Epoch 19, Loss: 0.02304051708091068\n",
      "Epoch 20, Loss: 0.021094783838430994\n",
      "Finished Training\n"
     ]
    }
   ],
   "source": [
    "# Train the model\n",
    "trainloader = torch.utils.data.DataLoader(trainset, batch_size=64, shuffle=True)\n",
    "\n",
    "# Corrected Training Loop\n",
    "epochs = 20\n",
    "for epoch in range(epochs):\n",
    "    running_loss = 0.0\n",
    "    for images_batch, labels_batch in trainloader:\n",
    "        optimizer.zero_grad()\n",
    "        outputs = model(images_batch)\n",
    "        loss = criterion(outputs, labels_batch)\n",
    "        loss.backward()\n",
    "        optimizer.step()\n",
    "\n",
    "        running_loss += loss.item()\n",
    "\n",
    "    print(f\"Epoch {epoch+1}, Loss: {running_loss/len(trainloader)}\")\n",
    "\n",
    "print(\"Finished Training\")\n",
    "\n"
   ]
  },
  {
   "cell_type": "markdown",
   "id": "6f266b59-4597-4fdd-a91a-ee156ef81473",
   "metadata": {},
   "source": [
    "# 9. Test Accuracy on MNIST Dataset\n",
    "Evaluate the trained model on the MNIST test set.\n"
   ]
  },
  {
   "cell_type": "code",
   "execution_count": 9,
   "id": "4d0fcb72-f3d9-405a-89be-7760ccf6a023",
   "metadata": {},
   "outputs": [
    {
     "name": "stdout",
     "output_type": "stream",
     "text": [
      "Test Accuracy on MNIST: 97.88%\n"
     ]
    }
   ],
   "source": [
    "# Evaluate on MNIST Test set\n",
    "testloader = torch.utils.data.DataLoader(testset, batch_size=64, shuffle=False)\n",
    "\n",
    "correct = 0\n",
    "total = 0\n",
    "with torch.no_grad():\n",
    "    for images_batch, labels_batch in testloader:\n",
    "        outputs = model(images_batch)  # <-- No transform needed!\n",
    "        _, predicted = torch.max(outputs, 1)\n",
    "        total += labels_batch.size(0)\n",
    "        correct += (predicted == labels_batch).sum().item()\n",
    "\n",
    "mnist_accuracy = 100 * correct / total\n",
    "print(f\"Test Accuracy on MNIST: {mnist_accuracy:.2f}%\")\n"
   ]
  },
  {
   "cell_type": "markdown",
   "id": "6d581995-d2da-48ff-858b-68fc270f2ad6",
   "metadata": {},
   "source": [
    "# 10. Test Accuracy on Group Handwritten Digits\n",
    "Evaluate the trained model on the handwritten digits collected by our team.\n"
   ]
  },
  {
   "cell_type": "code",
   "execution_count": 10,
   "id": "f7374e03-4bd6-42cd-9afd-8744a0022fc0",
   "metadata": {},
   "outputs": [
    {
     "name": "stdout",
     "output_type": "stream",
     "text": [
      "Test Accuracy on Team Digits: 33.94%\n"
     ]
    }
   ],
   "source": [
    "# Evaluate on your group's digits\n",
    "correct = 0\n",
    "total = images.shape[0]\n",
    "\n",
    "for idx in range(total):\n",
    "    img = images[idx]\n",
    "    label = labels[idx]\n",
    "\n",
    "    img_tensor = transform(img)\n",
    "    img_tensor = img_tensor.unsqueeze(0)  # Add batch dimension\n",
    "\n",
    "    output = model(img_tensor)\n",
    "    _, predicted = torch.max(output, 1)\n",
    "\n",
    "    if predicted.item() == label:\n",
    "        correct += 1\n",
    "\n",
    "group_accuracy = 100 * correct / total\n",
    "print(f\"Test Accuracy on Team Digits: {group_accuracy:.2f}%\")\n"
   ]
  },
  {
   "cell_type": "code",
   "execution_count": 11,
   "id": "adf2590d-e497-412d-9187-fd5ef4212100",
   "metadata": {},
   "outputs": [
    {
     "data": {
      "text/markdown": [
       "\n",
       "# 11. Summary of Results\n",
       "\n",
       "**MNIST Test Accuracy:** 97.88%  \n",
       "**Group Digits Test Accuracy:** 33.94%\n",
       "\n"
      ],
      "text/plain": [
       "<IPython.core.display.Markdown object>"
      ]
     },
     "metadata": {},
     "output_type": "display_data"
    }
   ],
   "source": [
    "from IPython.display import Markdown, display\n",
    "\n",
    "display(Markdown(f\"\"\"\n",
    "# 11. Summary of Results\n",
    "\n",
    "**MNIST Test Accuracy:** {mnist_accuracy:.2f}%  \n",
    "**Group Digits Test Accuracy:** {group_accuracy:.2f}%\n",
    "\n",
    "\"\"\"))\n",
    "\n",
    "\n"
   ]
  },
  {
   "cell_type": "code",
   "execution_count": null,
   "id": "06bb23a1-f311-4a6d-a58e-d30430766157",
   "metadata": {},
   "outputs": [],
   "source": []
  }
 ],
 "metadata": {
  "kernelspec": {
   "display_name": "Python 3 (ipykernel)",
   "language": "python",
   "name": "python3"
  },
  "language_info": {
   "codemirror_mode": {
    "name": "ipython",
    "version": 3
   },
   "file_extension": ".py",
   "mimetype": "text/x-python",
   "name": "python",
   "nbconvert_exporter": "python",
   "pygments_lexer": "ipython3",
   "version": "3.12.7"
  }
 },
 "nbformat": 4,
 "nbformat_minor": 5
}
